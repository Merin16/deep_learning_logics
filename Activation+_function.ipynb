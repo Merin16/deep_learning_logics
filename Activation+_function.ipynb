{
 "cells": [
  {
   "cell_type": "code",
   "execution_count": 1,
   "id": "9f32c9b1",
   "metadata": {},
   "outputs": [],
   "source": [
    "import math"
   ]
  },
  {
   "cell_type": "markdown",
   "id": "0ece42bf",
   "metadata": {},
   "source": [
    "# Sigmoid function"
   ]
  },
  {
   "cell_type": "code",
   "execution_count": 2,
   "id": "8be558f0",
   "metadata": {},
   "outputs": [],
   "source": [
    "def sigmoid(z):\n",
    "    return 1/(1+math.exp(-z))"
   ]
  },
  {
   "cell_type": "code",
   "execution_count": 11,
   "id": "43ae0ab6",
   "metadata": {},
   "outputs": [
    {
     "name": "stdout",
     "output_type": "stream",
     "text": [
      "1.0\n",
      "0.9999999999999953\n",
      "1.0\n",
      "0.999983298578152\n",
      "7.984904245686979e-30\n"
     ]
    }
   ],
   "source": [
    "print(sigmoid(100))\n",
    "print(sigmoid(33))\n",
    "print(sigmoid(1000))\n",
    "print(sigmoid(11))\n",
    "print(sigmoid(-67))"
   ]
  },
  {
   "cell_type": "markdown",
   "id": "de330ddc",
   "metadata": {},
   "source": [
    "# tanh function"
   ]
  },
  {
   "cell_type": "code",
   "execution_count": 12,
   "id": "9e54b091",
   "metadata": {},
   "outputs": [],
   "source": [
    "def tanh(z):\n",
    "    return (math.exp(z)-math.exp(-z))/(math.exp(z)+math.exp(-z))"
   ]
  },
  {
   "cell_type": "code",
   "execution_count": 15,
   "id": "97e0ec0c",
   "metadata": {},
   "outputs": [
    {
     "name": "stdout",
     "output_type": "stream",
     "text": [
      "-1.0\n",
      "1.0\n",
      "0.7615941559557649\n"
     ]
    }
   ],
   "source": [
    "print(tanh(-56))\n",
    "print(tanh(50))\n",
    "print(tanh(1))"
   ]
  },
  {
   "cell_type": "markdown",
   "id": "57dbe78a",
   "metadata": {},
   "source": [
    "# relu function"
   ]
  },
  {
   "cell_type": "code",
   "execution_count": 18,
   "id": "699a2c8c",
   "metadata": {},
   "outputs": [],
   "source": [
    "def relu(z):\n",
    "    return max(0,z)"
   ]
  },
  {
   "cell_type": "code",
   "execution_count": 21,
   "id": "f2c3e991",
   "metadata": {},
   "outputs": [
    {
     "name": "stdout",
     "output_type": "stream",
     "text": [
      "0\n",
      "9\n",
      "0\n",
      "100\n"
     ]
    }
   ],
   "source": [
    "print(relu(-5))\n",
    "print(relu(9))\n",
    "print(relu(-100))\n",
    "print(relu(100))"
   ]
  },
  {
   "cell_type": "markdown",
   "id": "7a644e80",
   "metadata": {},
   "source": [
    "# leaky relu"
   ]
  },
  {
   "cell_type": "code",
   "execution_count": 23,
   "id": "b653c496",
   "metadata": {},
   "outputs": [],
   "source": [
    "def leakyrelu(z):\n",
    "    return max(0.1*z,z)"
   ]
  },
  {
   "cell_type": "code",
   "execution_count": 25,
   "id": "b79dc9eb",
   "metadata": {},
   "outputs": [
    {
     "name": "stdout",
     "output_type": "stream",
     "text": [
      "-10.0\n",
      "100\n",
      "8\n",
      "-0.7000000000000001\n"
     ]
    }
   ],
   "source": [
    "print(leakyrelu(-100))\n",
    "print(leakyrelu(100))\n",
    "print(leakyrelu(8))\n",
    "print(leakyrelu(-7))\n"
   ]
  },
  {
   "cell_type": "code",
   "execution_count": null,
   "id": "b3a0f225",
   "metadata": {},
   "outputs": [],
   "source": []
  }
 ],
 "metadata": {
  "kernelspec": {
   "display_name": "Python 3",
   "language": "python",
   "name": "python3"
  },
  "language_info": {
   "codemirror_mode": {
    "name": "ipython",
    "version": 3
   },
   "file_extension": ".py",
   "mimetype": "text/x-python",
   "name": "python",
   "nbconvert_exporter": "python",
   "pygments_lexer": "ipython3",
   "version": "3.8.8"
  }
 },
 "nbformat": 4,
 "nbformat_minor": 5
}
