{
 "cells": [
  {
   "cell_type": "code",
   "execution_count": 1,
   "id": "0865be27",
   "metadata": {},
   "outputs": [],
   "source": [
    "import numpy as np"
   ]
  },
  {
   "cell_type": "code",
   "execution_count": 2,
   "id": "575c435e",
   "metadata": {},
   "outputs": [],
   "source": [
    "y_predicted = np.array([1,1,0,0,1])\n",
    "y_true = np.array([0.30,0.7,1,0,0.5])"
   ]
  },
  {
   "cell_type": "markdown",
   "id": "07855d8d",
   "metadata": {},
   "source": [
    "# Mean Absolute Error"
   ]
  },
  {
   "cell_type": "code",
   "execution_count": 7,
   "id": "496e7aa6",
   "metadata": {},
   "outputs": [],
   "source": [
    "def mae(y_predicted,y_true):\n",
    "    error=0 \n",
    "    for p,t in zip(y_predicted,y_true):\n",
    "        error=error+abs(p-t)\n",
    "    print(\"Total error is:\",error)\n",
    "    mae = error/len(y_predicted)\n",
    "    print(\"Mean absolute error is:\",mae)\n",
    "    return mae\n",
    "        "
   ]
  },
  {
   "cell_type": "code",
   "execution_count": 8,
   "id": "2d8819fb",
   "metadata": {},
   "outputs": [
    {
     "name": "stdout",
     "output_type": "stream",
     "text": [
      "Total error is: 2.5\n",
      "Mean absolute error is: 0.5\n"
     ]
    },
    {
     "data": {
      "text/plain": [
       "0.5"
      ]
     },
     "execution_count": 8,
     "metadata": {},
     "output_type": "execute_result"
    }
   ],
   "source": [
    "mae(y_predicted, y_true)"
   ]
  },
  {
   "cell_type": "markdown",
   "id": "dd2b9bcd",
   "metadata": {},
   "source": [
    "# Implement same thing using numpy in much easier way "
   ]
  },
  {
   "cell_type": "code",
   "execution_count": 11,
   "id": "e21d80d4",
   "metadata": {},
   "outputs": [
    {
     "data": {
      "text/plain": [
       "array([0.7, 0.3, 1. , 0. , 0.5])"
      ]
     },
     "execution_count": 11,
     "metadata": {},
     "output_type": "execute_result"
    }
   ],
   "source": [
    "np.abs(y_predicted-y_true)"
   ]
  },
  {
   "cell_type": "code",
   "execution_count": 12,
   "id": "d30cc922",
   "metadata": {},
   "outputs": [
    {
     "data": {
      "text/plain": [
       "2.5"
      ]
     },
     "execution_count": 12,
     "metadata": {},
     "output_type": "execute_result"
    }
   ],
   "source": [
    "np.sum(abs(y_predicted-y_true))"
   ]
  },
  {
   "cell_type": "code",
   "execution_count": 13,
   "id": "beeee8c4",
   "metadata": {},
   "outputs": [
    {
     "data": {
      "text/plain": [
       "0.5"
      ]
     },
     "execution_count": 13,
     "metadata": {},
     "output_type": "execute_result"
    }
   ],
   "source": [
    "np.mean(abs(y_predicted-y_true))"
   ]
  },
  {
   "cell_type": "code",
   "execution_count": null,
   "id": "55e5a574",
   "metadata": {},
   "outputs": [],
   "source": []
  }
 ],
 "metadata": {
  "kernelspec": {
   "display_name": "Python 3",
   "language": "python",
   "name": "python3"
  },
  "language_info": {
   "codemirror_mode": {
    "name": "ipython",
    "version": 3
   },
   "file_extension": ".py",
   "mimetype": "text/x-python",
   "name": "python",
   "nbconvert_exporter": "python",
   "pygments_lexer": "ipython3",
   "version": "3.8.8"
  }
 },
 "nbformat": 4,
 "nbformat_minor": 5
}
