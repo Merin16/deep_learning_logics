{
 "cells": [
  {
   "cell_type": "code",
   "execution_count": 1,
   "metadata": {
    "id": "9WgKWfCQsRuJ"
   },
   "outputs": [],
   "source": [
    "import numpy as np"
   ]
  },
  {
   "cell_type": "code",
   "execution_count": 3,
   "metadata": {
    "id": "vHBHBK_Qs5pS"
   },
   "outputs": [],
   "source": [
    "revenue=np.array([[180,200,220],[24,36,40],[12,18,20]])\n",
    "expenses=np.array([[80,90,100],[10,16,20],[8,10,10]])"
   ]
  },
  {
   "cell_type": "code",
   "execution_count": 4,
   "metadata": {
    "colab": {
     "base_uri": "https://localhost:8080/"
    },
    "id": "CYpusnWXtKwA",
    "outputId": "2e2b5577-b839-429e-8002-f3918a009d02"
   },
   "outputs": [
    {
     "data": {
      "text/plain": [
       "array([[100, 110, 120],\n",
       "       [ 14,  20,  20],\n",
       "       [  4,   8,  10]])"
      ]
     },
     "execution_count": 4,
     "metadata": {},
     "output_type": "execute_result"
    }
   ],
   "source": [
    "profit=revenue-expenses\n",
    "profit "
   ]
  },
  {
   "cell_type": "code",
   "execution_count": 6,
   "metadata": {
    "id": "KQGPkTc_tadh"
   },
   "outputs": [],
   "source": [
    "price_per_units=np.array([[1000,400,1200]])\n",
    "units=np.array([[30,40,50],[5,10,15],[2,5,7]])"
   ]
  },
  {
   "cell_type": "code",
   "execution_count": 7,
   "metadata": {
    "colab": {
     "base_uri": "https://localhost:8080/"
    },
    "id": "33LEEwqBt8Ph",
    "outputId": "720e3462-581f-40e1-943b-dd70217c7361"
   },
   "outputs": [
    {
     "data": {
      "text/plain": [
       "array([[30000, 16000, 60000],\n",
       "       [ 5000,  4000, 18000],\n",
       "       [ 2000,  2000,  8400]])"
      ]
     },
     "execution_count": 7,
     "metadata": {},
     "output_type": "execute_result"
    }
   ],
   "source": [
    "price_per_units*units"
   ]
  },
  {
   "cell_type": "code",
   "execution_count": 8,
   "metadata": {
    "id": "apTlEhxluaeu"
   },
   "outputs": [],
   "source": [
    "#This just multiplied 1000 with 30,400 with 40,1200 with 50 and again\n",
    "#1000 with 5,400 with 10,1200 with 15 and so on ... This concept is called\n",
    "#numpy broadcast ie,if shape of 2 matrix is not same it it will try to expand it\n",
    "#like price_per_units=np.array([[1000,400,1200],[1000,400,1200],[1000,400,1200]])"
   ]
  },
  {
   "cell_type": "code",
   "execution_count": 9,
   "metadata": {
    "id": "oxx06ZJhvcVz"
   },
   "outputs": [],
   "source": [
    "#numpy broadcast can be proved by the below code"
   ]
  },
  {
   "cell_type": "code",
   "execution_count": 10,
   "metadata": {
    "colab": {
     "base_uri": "https://localhost:8080/"
    },
    "id": "YMehiOzXvkfp",
    "outputId": "f9bc62d5-4ce6-4b17-b55e-9a877a0d4bcd"
   },
   "outputs": [
    {
     "data": {
      "text/plain": [
       "array([[30000, 16000, 60000],\n",
       "       [ 5000,  4000, 18000],\n",
       "       [ 2000,  2000,  8400]])"
      ]
     },
     "execution_count": 10,
     "metadata": {},
     "output_type": "execute_result"
    }
   ],
   "source": [
    "price_per_units=np.array([[1000,400,1200],[1000,400,1200],[1000,400,1200]])\n",
    "units=np.array([[30,40,50],[5,10,15],[2,5,7]])\n",
    "price_per_units*units"
   ]
  },
  {
   "cell_type": "code",
   "execution_count": 12,
   "metadata": {
    "colab": {
     "base_uri": "https://localhost:8080/"
    },
    "id": "bjMohXS2vtpB",
    "outputId": "adf536ed-4e8a-47b1-8c35-b123bf2b4236"
   },
   "outputs": [
    {
     "data": {
      "text/plain": [
       "array([[34400, 50000, 64400]])"
      ]
     },
     "execution_count": 12,
     "metadata": {},
     "output_type": "execute_result"
    }
   ],
   "source": [
    "#we need to find dot product\n",
    "price_per_units=np.array([[1000,400,1200]])\n",
    "units=np.array([[30,40,50],[5,10,15],[2,5,7]])\n",
    "np.dot(price_per_units,units)"
   ]
  },
  {
   "cell_type": "code",
   "execution_count": null,
   "metadata": {
    "id": "ld3eUJyqv7GG"
   },
   "outputs": [],
   "source": [
    "#This shows the sales amount in year 2018,2019 and 2020"
   ]
  }
 ],
 "metadata": {
  "accelerator": "GPU",
  "colab": {
   "provenance": []
  },
  "gpuClass": "standard",
  "kernelspec": {
   "display_name": "Python 3",
   "language": "python",
   "name": "python3"
  },
  "language_info": {
   "codemirror_mode": {
    "name": "ipython",
    "version": 3
   },
   "file_extension": ".py",
   "mimetype": "text/x-python",
   "name": "python",
   "nbconvert_exporter": "python",
   "pygments_lexer": "ipython3",
   "version": "3.8.8"
  }
 },
 "nbformat": 4,
 "nbformat_minor": 1
}
